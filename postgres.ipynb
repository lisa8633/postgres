{
 "cells": [
  {
   "cell_type": "code",
   "execution_count": 1,
   "metadata": {},
   "outputs": [
    {
     "name": "stdout",
     "output_type": "stream",
     "text": [
      "env: PGDATABASE=postgres\n",
      "env: PGHOST=10.106.209.5\n",
      "env: PGPORT=5432\n",
      "env: PGUSER=postgres\n",
      "env: PGPASSWORD=cs327e\n",
      "env: PGINSTANCE=postgres\n"
     ]
    }
   ],
   "source": [
    "%env PGDATABASE=postgres\n",
    "%env PGHOST={ip address}\n",
    "%env PGPORT=5432\n",
    "%env PGUSER=postgres\n",
    "%env PGPASSWORD={password}\n",
    "%env PGINSTANCE={pg instance}"
   ]
  },
  {
   "cell_type": "markdown",
   "metadata": {},
   "source": [
    "### Populate Database"
   ]
  },
  {
   "cell_type": "code",
   "execution_count": 2,
   "metadata": {},
   "outputs": [
    {
     "name": "stdout",
     "output_type": "stream",
     "text": [
      "psql:pg_college_staging.sql:1: NOTICE:  drop cascades to 3 other objects\n",
      "DETAIL:  drop cascades to table college.classes\n",
      "drop cascades to table college.current_students\n",
      "drop cascades to table college.new_students\n",
      "DROP SCHEMA\n",
      "CREATE SCHEMA\n",
      "SET\n",
      "CREATE TABLE\n",
      "CREATE TABLE\n",
      "CREATE TABLE\n"
     ]
    }
   ],
   "source": [
    "!psql -c \"\\i pg_college_staging.sql\""
   ]
  },
  {
   "cell_type": "code",
   "execution_count": 3,
   "metadata": {},
   "outputs": [
    {
     "name": "stdout",
     "output_type": "stream",
     "text": [
      "Importing data into Cloud SQL instance...done.                                 \n",
      "Imported data from [gs://cs327e-open-access/college_staging/Classes.csv] into [https://sqladmin.googleapis.com/sql/v1beta4/projects/cs327e-sp2020/instances/postgres].\n"
     ]
    }
   ],
   "source": [
    "!gcloud sql import csv $PGINSTANCE gs://cs327e-open-access/college_staging/Classes.csv --database=postgres --table=college.Classes --quiet"
   ]
  },
  {
   "cell_type": "code",
   "execution_count": 4,
   "metadata": {},
   "outputs": [
    {
     "name": "stdout",
     "output_type": "stream",
     "text": [
      "Importing data into Cloud SQL instance...done.                                 \n",
      "Imported data from [gs://cs327e-open-access/college_staging/Current_Students.csv] into [https://sqladmin.googleapis.com/sql/v1beta4/projects/cs327e-sp2020/instances/postgres].\n"
     ]
    }
   ],
   "source": [
    "!gcloud sql import csv $PGINSTANCE gs://cs327e-open-access/college_staging/Current_Students.csv --database=postgres --table=college.Current_Students --quiet"
   ]
  },
  {
   "cell_type": "code",
   "execution_count": 5,
   "metadata": {},
   "outputs": [
    {
     "name": "stdout",
     "output_type": "stream",
     "text": [
      "Importing data into Cloud SQL instance...done.                                 \n",
      "Imported data from [gs://cs327e-open-access/college_staging/New_Students.csv] into [https://sqladmin.googleapis.com/sql/v1beta4/projects/cs327e-sp2020/instances/postgres].\n"
     ]
    }
   ],
   "source": [
    "!gcloud sql import csv $PGINSTANCE gs://cs327e-open-access/college_staging/New_Students.csv --database=postgres --table=college.New_Students --quiet"
   ]
  },
  {
   "cell_type": "markdown",
   "metadata": {},
   "source": [
    "### Verify data load"
   ]
  },
  {
   "cell_type": "code",
   "execution_count": 6,
   "metadata": {},
   "outputs": [
    {
     "name": "stdout",
     "output_type": "stream",
     "text": [
      " count \n",
      "-------\n",
      "    12\n",
      "(1 row)\n",
      "\n"
     ]
    }
   ],
   "source": [
    "!psql -c \"select count(*) from college.Classes\""
   ]
  },
  {
   "cell_type": "code",
   "execution_count": 7,
   "metadata": {},
   "outputs": [
    {
     "name": "stdout",
     "output_type": "stream",
     "text": [
      " count \n",
      "-------\n",
      "    13\n",
      "(1 row)\n",
      "\n"
     ]
    }
   ],
   "source": [
    "!psql -c \"select count(*) from college.Current_Students\""
   ]
  },
  {
   "cell_type": "code",
   "execution_count": 8,
   "metadata": {},
   "outputs": [
    {
     "name": "stdout",
     "output_type": "stream",
     "text": [
      " count \n",
      "-------\n",
      "     7\n",
      "(1 row)\n",
      "\n"
     ]
    }
   ],
   "source": [
    "!psql -c \"select count(*) from college.New_Students\""
   ]
  },
  {
   "cell_type": "code",
   "execution_count": 9,
   "metadata": {},
   "outputs": [
    {
     "name": "stdout",
     "output_type": "stream",
     "text": [
      "   tid   |  instructor   |       dept       |  cno   |              cname               | credits \n",
      "---------+---------------+------------------+--------+----------------------------------+---------\n",
      " fares   | Fares Fraij   | CS               | CS331E | Elements of Software Engineering |       3\n",
      " mitra   | Shyamal Mitra | CS               | CS313E | Elements of Software Design      |       3\n",
      " mitra   | Shyamal Mitra | Computer Science | CS329E | Elements of Web Programming      |       3\n",
      " cannata | Phil Cannata  | CS               | CS326E | Elements of Networking           |       3\n",
      " scohen  | Shirley Cohen | Computer Science | CS327E | Elements of Databases            |       3\n",
      "(5 rows)\n",
      "\n"
     ]
    }
   ],
   "source": [
    "!psql -c \"select * from college.Classes limit 5\""
   ]
  },
  {
   "cell_type": "code",
   "execution_count": 10,
   "metadata": {},
   "outputs": [
    {
     "name": "stdout",
     "output_type": "stream",
     "text": [
      "  sid   | fname | lname |    dob     |  cno   |            cname            | credits | grade \n",
      "--------+-------+-------+------------+--------+-----------------------------+---------+-------\n",
      " kev18  | Kevin | Lin   | 1999-05-10 | CS329E | Elements of Web Programming |       3 | \n",
      " paulg  | Paul  | Gore  | 2000-09-17 | CS329E | Elements of Web Programming |       3 | A \n",
      " paulg  | Paul  | Gore  | 2000-09-17 | CS326E | Elements of Networking      |       3 | A-\n",
      " paulg  | Paul  | Gore  | 2000-09-17 | CS313E | Elements of Software Design |       3 | \n",
      " bzen26 | Biswa | Zen   | 04/22/1998 | CS313E | Elements of Software Design |       3 | B+\n",
      "(5 rows)\n",
      "\n"
     ]
    }
   ],
   "source": [
    "!psql -c \"select * from college.Current_Students limit 5\""
   ]
  },
  {
   "cell_type": "code",
   "execution_count": 11,
   "metadata": {},
   "outputs": [
    {
     "name": "stdout",
     "output_type": "stream",
     "text": [
      "   sid    |  fname  |  lname   |    dob     \n",
      "----------+---------+----------+------------\n",
      " aprilz   | April   | Lopez    | 2000-01-10\n",
      " sudeepa4 | Sudeepa | Roy      | 2000-10-01\n",
      " ryan22   | Ryan    | Watson   | 2000-11-07\n",
      " dchen    | David   | Chen     | 2000-08-22\n",
      " natea    | Nathan  | Anderson | 2000-04-08\n",
      "(5 rows)\n",
      "\n"
     ]
    }
   ],
   "source": [
    "!psql -c \"select * from college.New_Students limit 5\""
   ]
  },
  {
   "cell_type": "markdown",
   "metadata": {},
   "source": [
    "### Remodel tables"
   ]
  },
  {
   "cell_type": "code",
   "execution_count": 13,
   "metadata": {},
   "outputs": [
    {
     "name": "stdout",
     "output_type": "stream",
     "text": [
      "UPDATE 3\n"
     ]
    }
   ],
   "source": [
    "!psql -c \"update college.Current_Students set dob = '1999-01-03' where sid = 'jerryh'\""
   ]
  },
  {
   "cell_type": "code",
   "execution_count": 15,
   "metadata": {},
   "outputs": [
    {
     "name": "stdout",
     "output_type": "stream",
     "text": [
      "UPDATE 1\n"
     ]
    }
   ],
   "source": [
    "!psql -c \"update college.Current_Students set dob = '2000-01-10' where sid = 'aprilz'\""
   ]
  },
  {
   "cell_type": "code",
   "execution_count": 17,
   "metadata": {},
   "outputs": [
    {
     "name": "stdout",
     "output_type": "stream",
     "text": [
      "UPDATE 1\n"
     ]
    }
   ],
   "source": [
    "!psql -c \"update college.Current_Students set dob = '1998-04-22' where sid = 'bzen26'\""
   ]
  },
  {
   "cell_type": "code",
   "execution_count": 18,
   "metadata": {},
   "outputs": [
    {
     "name": "stdout",
     "output_type": "stream",
     "text": [
      "   sid    |  fname  |  lname   |    dob     |  cno   |                   cname                   | credits | grade \n",
      "----------+---------+----------+------------+--------+-------------------------------------------+---------+-------\n",
      " kev18    | Kevin   | Lin      | 1999-05-10 | CS329E | Elements of Web Programming               |       3 | \n",
      " paulg    | Paul    | Gore     | 2000-09-17 | CS329E | Elements of Web Programming               |       3 | A \n",
      " paulg    | Paul    | Gore     | 2000-09-17 | CS326E | Elements of Networking                    |       3 | A-\n",
      " paulg    | Paul    | Gore     | 2000-09-17 | CS313E | Elements of Software Design               |       3 | \n",
      " jc       | James   | Cowe     | 2000-04-22 | CS327E | CS327E – Elements of Databases            |       3 | \n",
      " jc       | James   | Cowe     | 2000-04-22 | CS331E | CS331E - Elements of Software Engineering |       3 | \n",
      " jc       | James   | Cowe     | 2000-04-22 | CS313E | CS313E - Elements of Software Design      |       3 | \n",
      " sudeepa4 | Sudeepa | Roy      | 2000-10-01 |        |                                           |         | \n",
      " jerryh   | Jerry   | Hargrove | 1999-01-03 | CS327E | Elements of Databases                     |       3 | B \n",
      " jerryh   | Jerry   | Hargrove | 1999-01-03 | CS327E | Elements of Databases                     |       0 | \n",
      " jerryh   | Jerry   | Hargrove | 1999-01-03 | CS329E | Elements of Web Programming               |       3 | A-\n",
      " aprilz   | April   | Lopez    | 2000-01-10 |        |                                           |         | \n",
      " bzen26   | Biswa   | Zen      | 1998-04-22 | CS313E | Elements of Software Design               |       3 | B+\n",
      "(13 rows)\n",
      "\n"
     ]
    }
   ],
   "source": [
    "!psql -c \"select * from college.Current_Students\""
   ]
  },
  {
   "cell_type": "code",
   "execution_count": 19,
   "metadata": {},
   "outputs": [
    {
     "name": "stdout",
     "output_type": "stream",
     "text": [
      "SELECT 14\n"
     ]
    }
   ],
   "source": [
    "!psql -c \"create table college.Student as \\\n",
    "select distinct sid, fname, lname, dob, 'PRO' as status \\\n",
    "from college.New_Students \\\n",
    "union \\\n",
    "select distinct sid, fname, lname, cast(dob as date), 'CUR' as status \\\n",
    "from college.Current_Students\""
   ]
  },
  {
   "cell_type": "code",
   "execution_count": 20,
   "metadata": {},
   "outputs": [
    {
     "name": "stdout",
     "output_type": "stream",
     "text": [
      "   sid    |  fname  |  lname   |    dob     | status \n",
      "----------+---------+----------+------------+--------\n",
      " aprilz   | April   | Lopez    | 2000-01-10 | CUR\n",
      " aprilz   | April   | Lopez    | 2000-01-10 | PRO\n",
      " bzen26   | Biswa   | Zen      | 1998-04-22 | CUR\n",
      " dchen    | David   | Chen     | 2000-08-22 | PRO\n",
      " jc       | James   | Cowe     | 2000-04-22 | CUR\n",
      " jerryh   | Jerry   | Hargrove | 1999-01-03 | CUR\n",
      " kev18    | Kevin   | Lin      | 1999-05-10 | CUR\n",
      " kgomez9  | Katie   | Gomez    | 2001-03-03 | PRO\n",
      " natea    | Nathan  | Anderson | 2000-04-08 | PRO\n",
      " nitinm   | Nitin   | Mogal    | 1999-07-31 | PRO\n",
      " paulg    | Paul    | Gore     | 2000-09-17 | CUR\n",
      " ryan22   | Ryan    | Watson   | 2000-11-07 | PRO\n",
      " sudeepa4 | Sudeepa | Roy      | 2000-10-01 | CUR\n",
      " sudeepa4 | Sudeepa | Roy      | 2000-10-01 | PRO\n",
      "(14 rows)\n",
      "\n"
     ]
    }
   ],
   "source": [
    "!psql -c \"select * from college.Student order by sid\""
   ]
  },
  {
   "cell_type": "code",
   "execution_count": 21,
   "metadata": {},
   "outputs": [
    {
     "name": "stdout",
     "output_type": "stream",
     "text": [
      "DELETE 1\n"
     ]
    }
   ],
   "source": [
    "!psql -c \"delete from college.Student where sid = 'aprilz' and status = 'PRO'\""
   ]
  },
  {
   "cell_type": "code",
   "execution_count": 22,
   "metadata": {},
   "outputs": [
    {
     "name": "stdout",
     "output_type": "stream",
     "text": [
      "DELETE 1\n"
     ]
    }
   ],
   "source": [
    "!psql -c \"delete from college.Student where sid = 'sudeepa4' and status = 'PRO'\""
   ]
  },
  {
   "cell_type": "code",
   "execution_count": 24,
   "metadata": {},
   "outputs": [
    {
     "name": "stdout",
     "output_type": "stream",
     "text": [
      "ALTER TABLE\n"
     ]
    }
   ],
   "source": [
    "!psql -c \"alter table college.Student add primary key(sid)\""
   ]
  },
  {
   "cell_type": "code",
   "execution_count": 27,
   "metadata": {},
   "outputs": [
    {
     "name": "stdout",
     "output_type": "stream",
     "text": [
      "   tid   |  instructor   |       dept       |  cno   |              cname               | credits \n",
      "---------+---------------+------------------+--------+----------------------------------+---------\n",
      " mitra   | Shyamal Mitra | CS               | CS313E | Elements of Software Design      |       3\n",
      " bulko   | Bill Bulko    | Computer Science | CS313E | Elements of Software Design      |       3\n",
      " cannata | Phil Cannata  | CS               | CS326E | Elements of Networking           |       3\n",
      " scohen  | Shirley Cohen | Computer Science | CS327E | Elements of Databases            |       3\n",
      " mitra   | Shyamal Mitra | Computer Science | CS329E | Elements of Web Programming      |       3\n",
      " fares   | Fares Fraij   | CS               | CS331E | Elements of Software Engineering |       3\n",
      " cannata | Phil Cannata  | CS               | CS347  | Data Management                  |       3\n",
      " downing | Glenn Downing | CS               | CS373  | Software Engineering             |       3\n",
      " koch    | Hans Koch     | Math             | M328K  | Intro to Number Theory           |       3\n",
      " tran    | Ngoc Tran     | Mathematics      | M358K  | Applied Statistics               |       3\n",
      " mueller | Peter Mueller | Math             | M362K  | Probability I                    |       3\n",
      " neeman  | Joe Neeman    | Mathematics      | M362K  | Probability I                    |       3\n",
      "(12 rows)\n",
      "\n"
     ]
    }
   ],
   "source": [
    "!psql -c \"select * from college.Classes order by cno\""
   ]
  },
  {
   "cell_type": "code",
   "execution_count": 28,
   "metadata": {},
   "outputs": [
    {
     "name": "stdout",
     "output_type": "stream",
     "text": [
      "UPDATE 5\n"
     ]
    }
   ],
   "source": [
    "!psql -c \"update college.Classes set dept = 'Computer Science' where dept = 'CS'\""
   ]
  },
  {
   "cell_type": "code",
   "execution_count": 30,
   "metadata": {},
   "outputs": [
    {
     "name": "stdout",
     "output_type": "stream",
     "text": [
      "UPDATE 2\n"
     ]
    }
   ],
   "source": [
    "!psql -c \"update college.Classes set dept = 'Mathematics' where dept = 'Math'\""
   ]
  },
  {
   "cell_type": "code",
   "execution_count": 31,
   "metadata": {},
   "outputs": [
    {
     "name": "stdout",
     "output_type": "stream",
     "text": [
      "SELECT 10\n"
     ]
    }
   ],
   "source": [
    "!psql -c \"create table college.Teacher as select distinct tid, \\\n",
    "instructor, dept from college.Classes\""
   ]
  },
  {
   "cell_type": "code",
   "execution_count": 34,
   "metadata": {},
   "outputs": [
    {
     "name": "stdout",
     "output_type": "stream",
     "text": [
      "   tid   |  instructor   |       dept       \n",
      "---------+---------------+------------------\n",
      " bulko   | Bill Bulko    | Computer Science\n",
      " cannata | Phil Cannata  | Computer Science\n",
      " downing | Glenn Downing | Computer Science\n",
      " fares   | Fares Fraij   | Computer Science\n",
      " koch    | Hans Koch     | Mathematics\n",
      " mitra   | Shyamal Mitra | Computer Science\n",
      " mueller | Peter Mueller | Mathematics\n",
      " neeman  | Joe Neeman    | Mathematics\n",
      " scohen  | Shirley Cohen | Computer Science\n",
      " tran    | Ngoc Tran     | Mathematics\n",
      "(10 rows)\n",
      "\n"
     ]
    }
   ],
   "source": [
    "!psql -c \"select * from college.Teacher order by tid\""
   ]
  },
  {
   "cell_type": "code",
   "execution_count": 36,
   "metadata": {},
   "outputs": [
    {
     "name": "stdout",
     "output_type": "stream",
     "text": [
      "ALTER TABLE\n"
     ]
    }
   ],
   "source": [
    "!psql -c \"alter table college.Teacher add primary key (tid)\""
   ]
  },
  {
   "cell_type": "code",
   "execution_count": 37,
   "metadata": {},
   "outputs": [
    {
     "name": "stdout",
     "output_type": "stream",
     "text": [
      "SELECT 10\n"
     ]
    }
   ],
   "source": [
    "!psql -c \"create table college.Class as \\\n",
    "select distinct cno, cname, credits \\\n",
    "from college.Classes\""
   ]
  },
  {
   "cell_type": "code",
   "execution_count": 38,
   "metadata": {},
   "outputs": [
    {
     "name": "stdout",
     "output_type": "stream",
     "text": [
      "  cno   |              cname               | credits \n",
      "--------+----------------------------------+---------\n",
      " CS313E | Elements of Software Design      |       3\n",
      " CS326E | Elements of Networking           |       3\n",
      " CS327E | Elements of Databases            |       3\n",
      " CS329E | Elements of Web Programming      |       3\n",
      " CS331E | Elements of Software Engineering |       3\n",
      " CS347  | Data Management                  |       3\n",
      " CS373  | Software Engineering             |       3\n",
      " M328K  | Intro to Number Theory           |       3\n",
      " M358K  | Applied Statistics               |       3\n",
      " M362K  | Probability I                    |       3\n",
      "(10 rows)\n",
      "\n"
     ]
    }
   ],
   "source": [
    "!psql -c \"select * from college.Class order by cno\""
   ]
  },
  {
   "cell_type": "code",
   "execution_count": 40,
   "metadata": {},
   "outputs": [
    {
     "name": "stdout",
     "output_type": "stream",
     "text": [
      "ALTER TABLE\n"
     ]
    }
   ],
   "source": [
    "!psql -c \"alter table college.Class add primary key (cno)\""
   ]
  },
  {
   "cell_type": "code",
   "execution_count": 41,
   "metadata": {},
   "outputs": [
    {
     "name": "stdout",
     "output_type": "stream",
     "text": [
      "SELECT 12\n"
     ]
    }
   ],
   "source": [
    "!psql -c \"create table college.Teaches as \\\n",
    "select distinct tid, cno \\\n",
    "from college.Classes\""
   ]
  },
  {
   "cell_type": "code",
   "execution_count": 42,
   "metadata": {},
   "outputs": [
    {
     "name": "stdout",
     "output_type": "stream",
     "text": [
      "ALTER TABLE\n"
     ]
    }
   ],
   "source": [
    "!psql -c \"alter table college.Teaches add primary key(tid, cno)\""
   ]
  },
  {
   "cell_type": "code",
   "execution_count": 43,
   "metadata": {},
   "outputs": [
    {
     "name": "stdout",
     "output_type": "stream",
     "text": [
      "SELECT 11\n"
     ]
    }
   ],
   "source": [
    "!psql -c \"create table college.Takes as \\\n",
    "select distinct sid, cno, grade \\\n",
    "from college.Current_Students \\\n",
    "where cno != ''\""
   ]
  },
  {
   "cell_type": "code",
   "execution_count": 45,
   "metadata": {},
   "outputs": [
    {
     "name": "stdout",
     "output_type": "stream",
     "text": [
      "  sid   |  cno   | grade \n",
      "--------+--------+-------\n",
      " bzen26 | CS313E | B+\n",
      " jc     | CS313E | \n",
      " jc     | CS327E | \n",
      " jc     | CS331E | \n",
      " jerryh | CS327E | B \n",
      " jerryh | CS327E | \n",
      " jerryh | CS329E | A-\n",
      " kev18  | CS329E | \n",
      " paulg  | CS313E | \n",
      " paulg  | CS326E | A-\n",
      " paulg  | CS329E | A \n",
      "(11 rows)\n",
      "\n"
     ]
    }
   ],
   "source": [
    "!psql -c \"select * from college.Takes order by sid, cno\""
   ]
  },
  {
   "cell_type": "code",
   "execution_count": 46,
   "metadata": {},
   "outputs": [
    {
     "name": "stdout",
     "output_type": "stream",
     "text": [
      "DELETE 1\n"
     ]
    }
   ],
   "source": [
    "!psql -c \"delete from college.Takes where sid = 'jerryh' and grade is null\""
   ]
  },
  {
   "cell_type": "code",
   "execution_count": 47,
   "metadata": {},
   "outputs": [
    {
     "name": "stdout",
     "output_type": "stream",
     "text": [
      "ALTER TABLE\n"
     ]
    }
   ],
   "source": [
    "!psql -c \"alter table college.Takes add primary key (sid, cno)\""
   ]
  },
  {
   "cell_type": "code",
   "execution_count": 48,
   "metadata": {},
   "outputs": [
    {
     "name": "stdout",
     "output_type": "stream",
     "text": [
      "ALTER TABLE\n"
     ]
    }
   ],
   "source": [
    "!psql -c \"alter table college.Takes add foreign key (sid) references college.Student (sid)\""
   ]
  },
  {
   "cell_type": "code",
   "execution_count": 49,
   "metadata": {},
   "outputs": [
    {
     "name": "stdout",
     "output_type": "stream",
     "text": [
      "ALTER TABLE\n"
     ]
    }
   ],
   "source": [
    "!psql -c \"alter table college.Takes add foreign key (cno) references college.Class (cno)\""
   ]
  },
  {
   "cell_type": "code",
   "execution_count": 50,
   "metadata": {},
   "outputs": [
    {
     "name": "stdout",
     "output_type": "stream",
     "text": [
      "ALTER TABLE\n"
     ]
    }
   ],
   "source": [
    "!psql -c \"alter table college.Teaches add foreign key (tid) references college.Teacher (tid)\""
   ]
  },
  {
   "cell_type": "code",
   "execution_count": 52,
   "metadata": {},
   "outputs": [
    {
     "name": "stdout",
     "output_type": "stream",
     "text": [
      "ALTER TABLE\n"
     ]
    }
   ],
   "source": [
    "!psql -c \"alter table college.Teaches add foreign key (cno) references college.Class (cno)\""
   ]
  },
  {
   "cell_type": "code",
   "execution_count": 54,
   "metadata": {},
   "outputs": [
    {
     "name": "stdout",
     "output_type": "stream",
     "text": [
      "           Table \"college.student\"\n",
      " Column |          Type          | Modifiers \n",
      "--------+------------------------+-----------\n",
      " sid    | character varying(50)  | not null\n",
      " fname  | character varying(200) | \n",
      " lname  | character varying(200) | \n",
      " dob    | date                   | \n",
      " status | text                   | \n",
      "Indexes:\n",
      "    \"student_pkey\" PRIMARY KEY, btree (sid)\n",
      "Referenced by:\n",
      "    TABLE \"college.takes\" CONSTRAINT \"takes_sid_fkey\" FOREIGN KEY (sid) REFERENCES college.student(sid)\n",
      "\n"
     ]
    }
   ],
   "source": [
    "!psql -c \"\\d college.Student\""
   ]
  },
  {
   "cell_type": "code",
   "execution_count": 55,
   "metadata": {},
   "outputs": [
    {
     "name": "stdout",
     "output_type": "stream",
     "text": [
      "            Table \"college.class\"\n",
      " Column  |          Type          | Modifiers \n",
      "---------+------------------------+-----------\n",
      " cno     | character(6)           | not null\n",
      " cname   | character varying(200) | \n",
      " credits | integer                | \n",
      "Indexes:\n",
      "    \"class_pkey\" PRIMARY KEY, btree (cno)\n",
      "Referenced by:\n",
      "    TABLE \"college.takes\" CONSTRAINT \"takes_cno_fkey\" FOREIGN KEY (cno) REFERENCES college.class(cno)\n",
      "    TABLE \"college.teaches\" CONSTRAINT \"teaches_cno_fkey\" FOREIGN KEY (cno) REFERENCES college.class(cno)\n",
      "\n"
     ]
    }
   ],
   "source": [
    "!psql -c \"\\d college.Class\""
   ]
  },
  {
   "cell_type": "code",
   "execution_count": 56,
   "metadata": {},
   "outputs": [
    {
     "name": "stdout",
     "output_type": "stream",
     "text": [
      "             Table \"college.teacher\"\n",
      "   Column   |          Type          | Modifiers \n",
      "------------+------------------------+-----------\n",
      " tid        | character varying(50)  | not null\n",
      " instructor | character varying(200) | \n",
      " dept       | character varying(50)  | \n",
      "Indexes:\n",
      "    \"teacher_pkey\" PRIMARY KEY, btree (tid)\n",
      "Referenced by:\n",
      "    TABLE \"college.teaches\" CONSTRAINT \"teaches_tid_fkey\" FOREIGN KEY (tid) REFERENCES college.teacher(tid)\n",
      "\n"
     ]
    }
   ],
   "source": [
    "!psql -c \"\\d college.Teacher\""
   ]
  },
  {
   "cell_type": "code",
   "execution_count": 57,
   "metadata": {},
   "outputs": [
    {
     "name": "stdout",
     "output_type": "stream",
     "text": [
      "           Table \"college.takes\"\n",
      " Column |         Type          | Modifiers \n",
      "--------+-----------------------+-----------\n",
      " sid    | character varying(50) | not null\n",
      " cno    | character(6)          | not null\n",
      " grade  | character(2)          | \n",
      "Indexes:\n",
      "    \"takes_pkey\" PRIMARY KEY, btree (sid, cno)\n",
      "Foreign-key constraints:\n",
      "    \"takes_cno_fkey\" FOREIGN KEY (cno) REFERENCES college.class(cno)\n",
      "    \"takes_sid_fkey\" FOREIGN KEY (sid) REFERENCES college.student(sid)\n",
      "\n"
     ]
    }
   ],
   "source": [
    "!psql -c \"\\d college.Takes\""
   ]
  },
  {
   "cell_type": "code",
   "execution_count": 58,
   "metadata": {},
   "outputs": [
    {
     "name": "stdout",
     "output_type": "stream",
     "text": [
      "          Table \"college.teaches\"\n",
      " Column |         Type          | Modifiers \n",
      "--------+-----------------------+-----------\n",
      " tid    | character varying(50) | not null\n",
      " cno    | character(6)          | not null\n",
      "Indexes:\n",
      "    \"teaches_pkey\" PRIMARY KEY, btree (tid, cno)\n",
      "Foreign-key constraints:\n",
      "    \"teaches_cno_fkey\" FOREIGN KEY (cno) REFERENCES college.class(cno)\n",
      "    \"teaches_tid_fkey\" FOREIGN KEY (tid) REFERENCES college.teacher(tid)\n",
      "\n"
     ]
    }
   ],
   "source": [
    "!psql -c \"\\d college.Teaches\""
   ]
  },
  {
   "cell_type": "code",
   "execution_count": null,
   "metadata": {},
   "outputs": [],
   "source": []
  }
 ],
 "metadata": {
  "environment": {
   "name": "common-cpu.m54",
   "type": "gcloud",
   "uri": "gcr.io/deeplearning-platform-release/base-cpu:m54"
  },
  "kernelspec": {
   "display_name": "Python 3",
   "language": "python",
   "name": "python3"
  },
  "language_info": {
   "codemirror_mode": {
    "name": "ipython",
    "version": 3
   },
   "file_extension": ".py",
   "mimetype": "text/x-python",
   "name": "python",
   "nbconvert_exporter": "python",
   "pygments_lexer": "ipython3",
   "version": "3.7.8"
  }
 },
 "nbformat": 4,
 "nbformat_minor": 4
}
