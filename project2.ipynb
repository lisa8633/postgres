{
 "cells": [
  {
   "cell_type": "markdown",
   "metadata": {},
   "source": [
    "# Project 2: Postgres Pagila Dataset Exploration"
   ]
  },
  {
   "cell_type": "markdown",
   "metadata": {},
   "source": [
    "### Initialization"
   ]
  },
  {
   "cell_type": "code",
   "execution_count": 1,
   "metadata": {},
   "outputs": [
    {
     "name": "stdout",
     "output_type": "stream",
     "text": [
      "env: PGDATABASE=postgres\n",
      "env: PGHOST=10.93.49.3\n",
      "env: PGPORT=5432\n",
      "env: PGUSER=postgres\n",
      "env: PGPASSWORD=cs327e\n",
      "env: PGINSTANCE=pg\n"
     ]
    }
   ],
   "source": [
    "# Setting up postgres connection\n",
    "%env PGDATABASE=postgres\n",
    "%env PGHOST=10.93.49.3\n",
    "%env PGPORT=5432\n",
    "%env PGUSER=postgres\n",
    "%env PGPASSWORD=cs327e\n",
    "%env PGINSTANCE=pg"
   ]
  },
  {
   "cell_type": "code",
   "execution_count": 2,
   "metadata": {},
   "outputs": [],
   "source": [
    "# Setting up schema, tables, and related database objects\n",
    "# '>/dev/null 2>&1' component suppresses output\n",
    "!psql -c \"\\i pagila-schema.sql\" >/dev/null 2>&1"
   ]
  },
  {
   "cell_type": "code",
   "execution_count": 3,
   "metadata": {},
   "outputs": [],
   "source": [
    "# Populating tables\n",
    "!psql -c \"\\i pagila-insert-data.sql\" >/dev/null 2>&1"
   ]
  },
  {
   "cell_type": "code",
   "execution_count": 4,
   "metadata": {},
   "outputs": [
    {
     "name": "stdout",
     "output_type": "stream",
     "text": [
      "             List of relations\n",
      " Schema |     Name      | Type  |  Owner   \n",
      "--------+---------------+-------+----------\n",
      " pagila | actor         | table | postgres\n",
      " pagila | address       | table | postgres\n",
      " pagila | category      | table | postgres\n",
      " pagila | city          | table | postgres\n",
      " pagila | country       | table | postgres\n",
      " pagila | customer      | table | postgres\n",
      " pagila | film          | table | postgres\n",
      " pagila | film_actor    | table | postgres\n",
      " pagila | film_category | table | postgres\n",
      " pagila | inventory     | table | postgres\n",
      " pagila | language      | table | postgres\n",
      " pagila | payment       | table | postgres\n",
      " pagila | rental        | table | postgres\n",
      " pagila | staff         | table | postgres\n",
      " pagila | store         | table | postgres\n",
      "(15 rows)\n",
      "\n"
     ]
    }
   ],
   "source": [
    "# Showing all tables under pagila schema \n",
    "!psql -c \"\\dt pagila.*\""
   ]
  },
  {
   "cell_type": "markdown",
   "metadata": {},
   "source": [
    "### Table Descriptions"
   ]
  },
  {
   "cell_type": "code",
   "execution_count": 5,
   "metadata": {},
   "outputs": [
    {
     "name": "stdout",
     "output_type": "stream",
     "text": [
      "                                           Table \"pagila.actor\"\n",
      "   Column    |           Type           |                            Modifiers                            \n",
      "-------------+--------------------------+-----------------------------------------------------------------\n",
      " actor_id    | integer                  | not null default nextval('pagila.actor_actor_id_seq'::regclass)\n",
      " first_name  | text                     | not null\n",
      " last_name   | text                     | not null\n",
      " last_update | timestamp with time zone | not null default now()\n",
      "Indexes:\n",
      "    \"actor_pkey\" PRIMARY KEY, btree (actor_id)\n",
      "    \"idx_actor_last_name\" btree (last_name)\n",
      "Referenced by:\n",
      "    TABLE \"pagila.film_actor\" CONSTRAINT \"film_actor_actor_id_fkey\" FOREIGN KEY (actor_id) REFERENCES pagila.actor(actor_id) ON UPDATE CASCADE ON DELETE RESTRICT\n",
      "Triggers:\n",
      "    last_updated BEFORE UPDATE ON pagila.actor FOR EACH ROW EXECUTE PROCEDURE pagila.last_updated()\n",
      "\n"
     ]
    }
   ],
   "source": [
    "!psql -c \"\\d pagila.actor\""
   ]
  },
  {
   "cell_type": "code",
   "execution_count": 6,
   "metadata": {},
   "outputs": [
    {
     "name": "stdout",
     "output_type": "stream",
     "text": [
      "                                            Table \"pagila.address\"\n",
      "   Column    |           Type           |                              Modifiers                              \n",
      "-------------+--------------------------+---------------------------------------------------------------------\n",
      " address_id  | integer                  | not null default nextval('pagila.address_address_id_seq'::regclass)\n",
      " address     | text                     | not null\n",
      " address2    | text                     | \n",
      " district    | text                     | not null\n",
      " city_id     | smallint                 | not null\n",
      " postal_code | text                     | \n",
      " phone       | text                     | not null\n",
      " last_update | timestamp with time zone | not null default now()\n",
      "Indexes:\n",
      "    \"address_pkey\" PRIMARY KEY, btree (address_id)\n",
      "    \"idx_fk_city_id\" btree (city_id)\n",
      "Foreign-key constraints:\n",
      "    \"address_city_id_fkey\" FOREIGN KEY (city_id) REFERENCES pagila.city(city_id) ON UPDATE CASCADE ON DELETE RESTRICT\n",
      "Referenced by:\n",
      "    TABLE \"pagila.customer\" CONSTRAINT \"customer_address_id_fkey\" FOREIGN KEY (address_id) REFERENCES pagila.address(address_id) ON UPDATE CASCADE ON DELETE RESTRICT\n",
      "    TABLE \"pagila.staff\" CONSTRAINT \"staff_address_id_fkey\" FOREIGN KEY (address_id) REFERENCES pagila.address(address_id) ON UPDATE CASCADE ON DELETE RESTRICT\n",
      "    TABLE \"pagila.store\" CONSTRAINT \"store_address_id_fkey\" FOREIGN KEY (address_id) REFERENCES pagila.address(address_id) ON UPDATE CASCADE ON DELETE RESTRICT\n",
      "Triggers:\n",
      "    last_updated BEFORE UPDATE ON pagila.address FOR EACH ROW EXECUTE PROCEDURE pagila.last_updated()\n",
      "\n"
     ]
    }
   ],
   "source": [
    "!psql -c \"\\d pagila.address\""
   ]
  },
  {
   "cell_type": "code",
   "execution_count": 7,
   "metadata": {},
   "outputs": [
    {
     "name": "stdout",
     "output_type": "stream",
     "text": [
      "                                            Table \"pagila.category\"\n",
      "   Column    |           Type           |                               Modifiers                               \n",
      "-------------+--------------------------+-----------------------------------------------------------------------\n",
      " category_id | integer                  | not null default nextval('pagila.category_category_id_seq'::regclass)\n",
      " name        | text                     | not null\n",
      " last_update | timestamp with time zone | not null default now()\n",
      "Indexes:\n",
      "    \"category_pkey\" PRIMARY KEY, btree (category_id)\n",
      "Referenced by:\n",
      "    TABLE \"pagila.film_category\" CONSTRAINT \"film_category_category_id_fkey\" FOREIGN KEY (category_id) REFERENCES pagila.category(category_id) ON UPDATE CASCADE ON DELETE RESTRICT\n",
      "Triggers:\n",
      "    last_updated BEFORE UPDATE ON pagila.category FOR EACH ROW EXECUTE PROCEDURE pagila.last_updated()\n",
      "\n"
     ]
    }
   ],
   "source": [
    "!psql -c \"\\d pagila.category\""
   ]
  },
  {
   "cell_type": "code",
   "execution_count": 8,
   "metadata": {},
   "outputs": [
    {
     "name": "stdout",
     "output_type": "stream",
     "text": [
      "                                          Table \"pagila.city\"\n",
      "   Column    |           Type           |                           Modifiers                           \n",
      "-------------+--------------------------+---------------------------------------------------------------\n",
      " city_id     | integer                  | not null default nextval('pagila.city_city_id_seq'::regclass)\n",
      " city        | text                     | not null\n",
      " country_id  | smallint                 | not null\n",
      " last_update | timestamp with time zone | not null default now()\n",
      "Indexes:\n",
      "    \"city_pkey\" PRIMARY KEY, btree (city_id)\n",
      "    \"idx_fk_country_id\" btree (country_id)\n",
      "Foreign-key constraints:\n",
      "    \"city_country_id_fkey\" FOREIGN KEY (country_id) REFERENCES pagila.country(country_id) ON UPDATE CASCADE ON DELETE RESTRICT\n",
      "Referenced by:\n",
      "    TABLE \"pagila.address\" CONSTRAINT \"address_city_id_fkey\" FOREIGN KEY (city_id) REFERENCES pagila.city(city_id) ON UPDATE CASCADE ON DELETE RESTRICT\n",
      "Triggers:\n",
      "    last_updated BEFORE UPDATE ON pagila.city FOR EACH ROW EXECUTE PROCEDURE pagila.last_updated()\n",
      "\n"
     ]
    }
   ],
   "source": [
    "!psql -c \"\\d pagila.city\""
   ]
  },
  {
   "cell_type": "code",
   "execution_count": 9,
   "metadata": {},
   "outputs": [
    {
     "name": "stdout",
     "output_type": "stream",
     "text": [
      "                                            Table \"pagila.country\"\n",
      "   Column    |           Type           |                              Modifiers                              \n",
      "-------------+--------------------------+---------------------------------------------------------------------\n",
      " country_id  | integer                  | not null default nextval('pagila.country_country_id_seq'::regclass)\n",
      " country     | text                     | not null\n",
      " last_update | timestamp with time zone | not null default now()\n",
      "Indexes:\n",
      "    \"country_pkey\" PRIMARY KEY, btree (country_id)\n",
      "Referenced by:\n",
      "    TABLE \"pagila.city\" CONSTRAINT \"city_country_id_fkey\" FOREIGN KEY (country_id) REFERENCES pagila.country(country_id) ON UPDATE CASCADE ON DELETE RESTRICT\n",
      "Triggers:\n",
      "    last_updated BEFORE UPDATE ON pagila.country FOR EACH ROW EXECUTE PROCEDURE pagila.last_updated()\n",
      "\n"
     ]
    }
   ],
   "source": [
    "!psql -c \"\\d pagila.country\""
   ]
  },
  {
   "cell_type": "code",
   "execution_count": 10,
   "metadata": {},
   "outputs": [
    {
     "name": "stdout",
     "output_type": "stream",
     "text": [
      "                                             Table \"pagila.customer\"\n",
      "   Column    |           Type           |                               Modifiers                                \n",
      "-------------+--------------------------+------------------------------------------------------------------------\n",
      " customer_id | integer                  | not null default nextval('pagila.customer_customer_id_seq1'::regclass)\n",
      " store_id    | smallint                 | not null\n",
      " first_name  | text                     | not null\n",
      " last_name   | text                     | not null\n",
      " email       | text                     | \n",
      " address_id  | smallint                 | not null\n",
      " activebool  | boolean                  | not null default true\n",
      " create_date | date                     | not null default ('now'::text)::date\n",
      " last_update | timestamp with time zone | default now()\n",
      " active      | integer                  | \n",
      "Indexes:\n",
      "    \"customer_pkey\" PRIMARY KEY, btree (customer_id)\n",
      "    \"idx_fk_address_id\" btree (address_id)\n",
      "    \"idx_fk_store_id\" btree (store_id)\n",
      "    \"idx_last_name\" btree (last_name)\n",
      "Foreign-key constraints:\n",
      "    \"customer_address_id_fkey\" FOREIGN KEY (address_id) REFERENCES pagila.address(address_id) ON UPDATE CASCADE ON DELETE RESTRICT\n",
      "    \"customer_store_id_fkey\" FOREIGN KEY (store_id) REFERENCES pagila.store(store_id) ON UPDATE CASCADE ON DELETE RESTRICT\n",
      "Referenced by:\n",
      "    TABLE \"pagila.rental\" CONSTRAINT \"rental_customer_id_fkey\" FOREIGN KEY (customer_id) REFERENCES pagila.customer(customer_id) ON UPDATE CASCADE ON DELETE RESTRICT\n",
      "Triggers:\n",
      "    last_updated BEFORE UPDATE ON pagila.customer FOR EACH ROW EXECUTE PROCEDURE pagila.last_updated()\n",
      "\n"
     ]
    }
   ],
   "source": [
    "!psql -c \"\\d pagila.customer\""
   ]
  },
  {
   "cell_type": "code",
   "execution_count": 11,
   "metadata": {},
   "outputs": [
    {
     "name": "stdout",
     "output_type": "stream",
     "text": [
      "                                               Table \"pagila.film\"\n",
      "        Column        |           Type           |                           Modifiers                           \n",
      "----------------------+--------------------------+---------------------------------------------------------------\n",
      " film_id              | integer                  | not null default nextval('pagila.film_film_id_seq'::regclass)\n",
      " title                | text                     | not null\n",
      " description          | text                     | \n",
      " release_year         | pagila.year              | \n",
      " language_id          | smallint                 | not null\n",
      " original_language_id | smallint                 | \n",
      " rental_duration      | smallint                 | not null default 3\n",
      " rental_rate          | numeric(4,2)             | not null default 4.99\n",
      " length               | smallint                 | \n",
      " replacement_cost     | numeric(5,2)             | not null default 19.99\n",
      " rating               | pagila.mpaa_rating       | default 'G'::pagila.mpaa_rating\n",
      " last_update          | timestamp with time zone | not null default now()\n",
      " special_features     | text[]                   | \n",
      " fulltext             | tsvector                 | not null\n",
      "Indexes:\n",
      "    \"film_pkey\" PRIMARY KEY, btree (film_id)\n",
      "    \"film_fulltext_idx\" gist (fulltext)\n",
      "    \"idx_fk_language_id\" btree (language_id)\n",
      "    \"idx_fk_original_language_id\" btree (original_language_id)\n",
      "    \"idx_title\" btree (title)\n",
      "Foreign-key constraints:\n",
      "    \"film_language_id_fkey\" FOREIGN KEY (language_id) REFERENCES pagila.language(language_id) ON UPDATE CASCADE ON DELETE RESTRICT\n",
      "    \"film_original_language_id_fkey\" FOREIGN KEY (original_language_id) REFERENCES pagila.language(language_id) ON UPDATE CASCADE ON DELETE RESTRICT\n",
      "Referenced by:\n",
      "    TABLE \"pagila.film_actor\" CONSTRAINT \"film_actor_film_id_fkey\" FOREIGN KEY (film_id) REFERENCES pagila.film(film_id) ON UPDATE CASCADE ON DELETE RESTRICT\n",
      "    TABLE \"pagila.film_category\" CONSTRAINT \"film_category_film_id_fkey\" FOREIGN KEY (film_id) REFERENCES pagila.film(film_id) ON UPDATE CASCADE ON DELETE RESTRICT\n",
      "    TABLE \"pagila.inventory\" CONSTRAINT \"inventory_film_id_fkey\" FOREIGN KEY (film_id) REFERENCES pagila.film(film_id) ON UPDATE CASCADE ON DELETE RESTRICT\n",
      "Triggers:\n",
      "    film_fulltext_trigger BEFORE INSERT OR UPDATE ON pagila.film FOR EACH ROW EXECUTE PROCEDURE tsvector_update_trigger('fulltext', 'pg_catalog.english', 'title', 'description')\n",
      "    last_updated BEFORE UPDATE ON pagila.film FOR EACH ROW EXECUTE PROCEDURE pagila.last_updated()\n",
      "\n"
     ]
    }
   ],
   "source": [
    "!psql -c \"\\d pagila.film\""
   ]
  },
  {
   "cell_type": "code",
   "execution_count": 12,
   "metadata": {},
   "outputs": [
    {
     "name": "stdout",
     "output_type": "stream",
     "text": [
      "                    Table \"pagila.film_actor\"\n",
      "   Column    |           Type           |       Modifiers        \n",
      "-------------+--------------------------+------------------------\n",
      " actor_id    | smallint                 | not null\n",
      " film_id     | smallint                 | not null\n",
      " last_update | timestamp with time zone | not null default now()\n",
      "Indexes:\n",
      "    \"film_actor_pkey\" PRIMARY KEY, btree (actor_id, film_id)\n",
      "    \"idx_fk_film_id\" btree (film_id)\n",
      "Foreign-key constraints:\n",
      "    \"film_actor_actor_id_fkey\" FOREIGN KEY (actor_id) REFERENCES pagila.actor(actor_id) ON UPDATE CASCADE ON DELETE RESTRICT\n",
      "    \"film_actor_film_id_fkey\" FOREIGN KEY (film_id) REFERENCES pagila.film(film_id) ON UPDATE CASCADE ON DELETE RESTRICT\n",
      "Triggers:\n",
      "    last_updated BEFORE UPDATE ON pagila.film_actor FOR EACH ROW EXECUTE PROCEDURE pagila.last_updated()\n",
      "\n"
     ]
    }
   ],
   "source": [
    "!psql -c \"\\d pagila.film_actor\""
   ]
  },
  {
   "cell_type": "code",
   "execution_count": 13,
   "metadata": {},
   "outputs": [
    {
     "name": "stdout",
     "output_type": "stream",
     "text": [
      "                  Table \"pagila.film_category\"\n",
      "   Column    |           Type           |       Modifiers        \n",
      "-------------+--------------------------+------------------------\n",
      " film_id     | smallint                 | not null\n",
      " category_id | smallint                 | not null\n",
      " last_update | timestamp with time zone | not null default now()\n",
      "Indexes:\n",
      "    \"film_category_pkey\" PRIMARY KEY, btree (film_id, category_id)\n",
      "Foreign-key constraints:\n",
      "    \"film_category_category_id_fkey\" FOREIGN KEY (category_id) REFERENCES pagila.category(category_id) ON UPDATE CASCADE ON DELETE RESTRICT\n",
      "    \"film_category_film_id_fkey\" FOREIGN KEY (film_id) REFERENCES pagila.film(film_id) ON UPDATE CASCADE ON DELETE RESTRICT\n",
      "Triggers:\n",
      "    last_updated BEFORE UPDATE ON pagila.film_category FOR EACH ROW EXECUTE PROCEDURE pagila.last_updated()\n",
      "\n"
     ]
    }
   ],
   "source": [
    "!psql -c \"\\d pagila.film_category\""
   ]
  },
  {
   "cell_type": "code",
   "execution_count": 14,
   "metadata": {},
   "outputs": [
    {
     "name": "stdout",
     "output_type": "stream",
     "text": [
      "                                             Table \"pagila.inventory\"\n",
      "    Column    |           Type           |                                Modifiers                                \n",
      "--------------+--------------------------+-------------------------------------------------------------------------\n",
      " inventory_id | integer                  | not null default nextval('pagila.inventory_inventory_id_seq'::regclass)\n",
      " film_id      | smallint                 | not null\n",
      " store_id     | smallint                 | not null\n",
      " last_update  | timestamp with time zone | not null default now()\n",
      "Indexes:\n",
      "    \"inventory_pkey\" PRIMARY KEY, btree (inventory_id)\n",
      "    \"idx_store_id_film_id\" btree (store_id, film_id)\n",
      "Foreign-key constraints:\n",
      "    \"inventory_film_id_fkey\" FOREIGN KEY (film_id) REFERENCES pagila.film(film_id) ON UPDATE CASCADE ON DELETE RESTRICT\n",
      "    \"inventory_store_id_fkey\" FOREIGN KEY (store_id) REFERENCES pagila.store(store_id) ON UPDATE CASCADE ON DELETE RESTRICT\n",
      "Referenced by:\n",
      "    TABLE \"pagila.rental\" CONSTRAINT \"rental_inventory_id_fkey\" FOREIGN KEY (inventory_id) REFERENCES pagila.inventory(inventory_id) ON UPDATE CASCADE ON DELETE RESTRICT\n",
      "Triggers:\n",
      "    last_updated BEFORE UPDATE ON pagila.inventory FOR EACH ROW EXECUTE PROCEDURE pagila.last_updated()\n",
      "\n"
     ]
    }
   ],
   "source": [
    "!psql -c \"\\d pagila.inventory\""
   ]
  },
  {
   "cell_type": "code",
   "execution_count": 15,
   "metadata": {},
   "outputs": [
    {
     "name": "stdout",
     "output_type": "stream",
     "text": [
      "                                            Table \"pagila.language\"\n",
      "   Column    |           Type           |                               Modifiers                               \n",
      "-------------+--------------------------+-----------------------------------------------------------------------\n",
      " language_id | integer                  | not null default nextval('pagila.language_language_id_seq'::regclass)\n",
      " name        | character(20)            | not null\n",
      " last_update | timestamp with time zone | not null default now()\n",
      "Indexes:\n",
      "    \"language_pkey\" PRIMARY KEY, btree (language_id)\n",
      "Referenced by:\n",
      "    TABLE \"pagila.film\" CONSTRAINT \"film_language_id_fkey\" FOREIGN KEY (language_id) REFERENCES pagila.language(language_id) ON UPDATE CASCADE ON DELETE RESTRICT\n",
      "    TABLE \"pagila.film\" CONSTRAINT \"film_original_language_id_fkey\" FOREIGN KEY (original_language_id) REFERENCES pagila.language(language_id) ON UPDATE CASCADE ON DELETE RESTRICT\n",
      "Triggers:\n",
      "    last_updated BEFORE UPDATE ON pagila.language FOR EACH ROW EXECUTE PROCEDURE pagila.last_updated()\n",
      "\n"
     ]
    }
   ],
   "source": [
    "!psql -c \"\\d pagila.language\""
   ]
  },
  {
   "cell_type": "code",
   "execution_count": 16,
   "metadata": {},
   "outputs": [
    {
     "name": "stdout",
     "output_type": "stream",
     "text": [
      "                                            Table \"pagila.payment\"\n",
      "    Column    |           Type           |                              Modifiers                              \n",
      "--------------+--------------------------+---------------------------------------------------------------------\n",
      " payment_id   | integer                  | not null default nextval('pagila.payment_payment_id_seq'::regclass)\n",
      " customer_id  | smallint                 | not null\n",
      " staff_id     | smallint                 | not null\n",
      " rental_id    | integer                  | not null\n",
      " amount       | numeric(5,2)             | not null\n",
      " payment_date | timestamp with time zone | not null\n",
      "Indexes:\n",
      "    \"idx_fk_customer_id\" btree (customer_id)\n",
      "    \"idx_fk_staff_id\" btree (staff_id)\n",
      "\n"
     ]
    }
   ],
   "source": [
    "!psql -c \"\\d pagila.payment\""
   ]
  },
  {
   "cell_type": "code",
   "execution_count": 17,
   "metadata": {},
   "outputs": [
    {
     "name": "stdout",
     "output_type": "stream",
     "text": [
      "                                            Table \"pagila.rental\"\n",
      "    Column    |           Type           |                             Modifiers                             \n",
      "--------------+--------------------------+-------------------------------------------------------------------\n",
      " rental_id    | integer                  | not null default nextval('pagila.rental_rental_id_seq'::regclass)\n",
      " rental_date  | timestamp with time zone | not null\n",
      " inventory_id | integer                  | not null\n",
      " customer_id  | smallint                 | not null\n",
      " return_date  | timestamp with time zone | \n",
      " staff_id     | smallint                 | not null\n",
      " last_update  | timestamp with time zone | not null default now()\n",
      "Indexes:\n",
      "    \"rental_pkey\" PRIMARY KEY, btree (rental_id)\n",
      "    \"idx_unq_rental_rental_date_inventory_id_customer_id\" UNIQUE, btree (rental_date, inventory_id, customer_id)\n",
      "    \"idx_fk_inventory_id\" btree (inventory_id)\n",
      "Foreign-key constraints:\n",
      "    \"rental_customer_id_fkey\" FOREIGN KEY (customer_id) REFERENCES pagila.customer(customer_id) ON UPDATE CASCADE ON DELETE RESTRICT\n",
      "    \"rental_inventory_id_fkey\" FOREIGN KEY (inventory_id) REFERENCES pagila.inventory(inventory_id) ON UPDATE CASCADE ON DELETE RESTRICT\n",
      "    \"rental_staff_id_fkey\" FOREIGN KEY (staff_id) REFERENCES pagila.staff(staff_id) ON UPDATE CASCADE ON DELETE RESTRICT\n",
      "Triggers:\n",
      "    last_updated BEFORE UPDATE ON pagila.rental FOR EACH ROW EXECUTE PROCEDURE pagila.last_updated()\n",
      "\n"
     ]
    }
   ],
   "source": [
    "!psql -c \"\\d pagila.rental\""
   ]
  },
  {
   "cell_type": "code",
   "execution_count": 18,
   "metadata": {},
   "outputs": [
    {
     "name": "stdout",
     "output_type": "stream",
     "text": [
      "                                           Table \"pagila.staff\"\n",
      "   Column    |           Type           |                            Modifiers                            \n",
      "-------------+--------------------------+-----------------------------------------------------------------\n",
      " staff_id    | integer                  | not null default nextval('pagila.staff_staff_id_seq'::regclass)\n",
      " first_name  | text                     | not null\n",
      " last_name   | text                     | not null\n",
      " address_id  | smallint                 | not null\n",
      " email       | text                     | \n",
      " store_id    | smallint                 | not null\n",
      " active      | boolean                  | not null default true\n",
      " username    | text                     | not null\n",
      " password    | text                     | \n",
      " last_update | timestamp with time zone | not null default now()\n",
      " picture     | bytea                    | \n",
      "Indexes:\n",
      "    \"staff_pkey\" PRIMARY KEY, btree (staff_id)\n",
      "Foreign-key constraints:\n",
      "    \"staff_address_id_fkey\" FOREIGN KEY (address_id) REFERENCES pagila.address(address_id) ON UPDATE CASCADE ON DELETE RESTRICT\n",
      "    \"staff_store_id_fkey\" FOREIGN KEY (store_id) REFERENCES pagila.store(store_id)\n",
      "Referenced by:\n",
      "    TABLE \"pagila.rental\" CONSTRAINT \"rental_staff_id_fkey\" FOREIGN KEY (staff_id) REFERENCES pagila.staff(staff_id) ON UPDATE CASCADE ON DELETE RESTRICT\n",
      "Triggers:\n",
      "    last_updated BEFORE UPDATE ON pagila.staff FOR EACH ROW EXECUTE PROCEDURE pagila.last_updated()\n",
      "\n"
     ]
    }
   ],
   "source": [
    "!psql -c \"\\d pagila.staff\""
   ]
  },
  {
   "cell_type": "code",
   "execution_count": 19,
   "metadata": {},
   "outputs": [
    {
     "name": "stdout",
     "output_type": "stream",
     "text": [
      "                                             Table \"pagila.store\"\n",
      "      Column      |           Type           |                            Modifiers                            \n",
      "------------------+--------------------------+-----------------------------------------------------------------\n",
      " store_id         | integer                  | not null default nextval('pagila.store_store_id_seq'::regclass)\n",
      " manager_staff_id | smallint                 | not null\n",
      " address_id       | smallint                 | not null\n",
      " last_update      | timestamp with time zone | not null default now()\n",
      "Indexes:\n",
      "    \"store_pkey\" PRIMARY KEY, btree (store_id)\n",
      "    \"idx_unq_manager_staff_id\" UNIQUE, btree (manager_staff_id)\n",
      "Foreign-key constraints:\n",
      "    \"store_address_id_fkey\" FOREIGN KEY (address_id) REFERENCES pagila.address(address_id) ON UPDATE CASCADE ON DELETE RESTRICT\n",
      "Referenced by:\n",
      "    TABLE \"pagila.customer\" CONSTRAINT \"customer_store_id_fkey\" FOREIGN KEY (store_id) REFERENCES pagila.store(store_id) ON UPDATE CASCADE ON DELETE RESTRICT\n",
      "    TABLE \"pagila.inventory\" CONSTRAINT \"inventory_store_id_fkey\" FOREIGN KEY (store_id) REFERENCES pagila.store(store_id) ON UPDATE CASCADE ON DELETE RESTRICT\n",
      "    TABLE \"pagila.staff\" CONSTRAINT \"staff_store_id_fkey\" FOREIGN KEY (store_id) REFERENCES pagila.store(store_id)\n",
      "Triggers:\n",
      "    last_updated BEFORE UPDATE ON pagila.store FOR EACH ROW EXECUTE PROCEDURE pagila.last_updated()\n",
      "\n"
     ]
    }
   ],
   "source": [
    "!psql -c \"\\d pagila.store\""
   ]
  },
  {
   "cell_type": "markdown",
   "metadata": {},
   "source": [
    "### Inner Join Queries"
   ]
  },
  {
   "cell_type": "markdown",
   "metadata": {},
   "source": [
    "This query connects actors with the films they appeared in, then shows all the actors in film 106, Bulworth Commandments, sorted alphabetically by last and first name."
   ]
  },
  {
   "cell_type": "code",
   "execution_count": 20,
   "metadata": {},
   "outputs": [
    {
     "name": "stdout",
     "output_type": "stream",
     "text": [
      " actor_id | first_name | last_name | film_id |         title         \n",
      "----------+------------+-----------+---------+-----------------------\n",
      "      124 | SCARLETT   | BENING    |     106 | BULWORTH COMMANDMENTS\n",
      "      173 | ALAN       | DREYFUSS  |     106 | BULWORTH COMMANDMENTS\n",
      "        1 | PENELOPE   | GUINESS   |     106 | BULWORTH COMMANDMENTS\n",
      "       65 | ANGELA     | HUDSON    |     106 | BULWORTH COMMANDMENTS\n",
      "(4 rows)\n",
      "\n"
     ]
    }
   ],
   "source": [
    "!psql -c \"select pagila.actor.actor_id, first_name, last_name, pagila.film.film_id, title \\\n",
    "    from pagila.actor \\\n",
    "    join pagila.film_actor on pagila.actor.actor_id = pagila.film_actor.actor_id \\\n",
    "    join pagila.film on pagila.film_actor.film_id = pagila.film.film_id \\\n",
    "    where pagila.film.film_id = 106 \\\n",
    "    order by last_name, first_name;\""
   ]
  },
  {
   "cell_type": "markdown",
   "metadata": {},
   "source": [
    "This query joins the customer and address tables on the address_id, then shows the name, address, and phone number for all inactive customers sorted alphabetically by last and first name."
   ]
  },
  {
   "cell_type": "code",
   "execution_count": 21,
   "metadata": {},
   "outputs": [
    {
     "name": "stdout",
     "output_type": "stream",
     "text": [
      " customer_id | active | first_name | last_name |             address              |    phone     \n",
      "-------------+--------+------------+-----------+----------------------------------+--------------\n",
      "         368 |      0 | HARRY      | ARCE      | 1922 Miraj Way                   | 320471479776\n",
      "          64 |      0 | JUDITH     | COX       | 1966 Amroha Avenue               | 333489324603\n",
      "         482 |      0 | MAURICE    | CRAWLEY   | 1785 So Bernardo do Campo Street | 684529463244\n",
      "         446 |      0 | THEODORE   | CULP      | 1704 Tambaram Manor              | 39463554936\n",
      "         510 |      0 | BEN        | EASTER    | 886 Tonghae Place                | 711928348157\n",
      "         558 |      0 | JIMMIE     | EGGLESTON | 505 Madiun Boulevard             | 970638808606\n",
      "         315 |      0 | KENNETH    | GOODEN    | 1542 Lubumbashi Boulevard        | 508800331065\n",
      "         534 |      0 | CHRISTIAN  | JUNG      | 949 Allende Lane                 | 122981120653\n",
      "         241 |      0 | HEIDI      | LARSON    | 1103 Bilbays Parkway             | 279979529227\n",
      "          16 |      0 | SANDRA     | MARTIN    | 360 Toulouse Parkway             | 949312333307\n",
      "         169 |      0 | ERICA      | MATTHEWS  | 1294 Firozabad Drive             | 161801569569\n",
      "         271 |      0 | PENNY      | NEAL      | 1675 Xiangfan Manor              | 271149517630\n",
      "         592 |      0 | TERRANCE   | ROUSH     | 42 Fontana Avenue                | 437829801725\n",
      "         406 |      0 | NATHAN     | RUNYON    | 264 Bhimavaram Manor             | 302526949177\n",
      "         124 |      0 | SHEILA     | WELLS     | 848 Tafuna Manor                 | 614935229095\n",
      "(15 rows)\n",
      "\n"
     ]
    }
   ],
   "source": [
    "!psql -c \"select customer_id, active, first_name, last_name, address, phone \\\n",
    "    from pagila.customer \\\n",
    "    join pagila.address on pagila.customer.address_id = pagila.address.address_id \\\n",
    "    where active = 0 \\\n",
    "    order by last_name, first_name;\""
   ]
  },
  {
   "cell_type": "markdown",
   "metadata": {},
   "source": [
    "This query joins films with their categories using the film_category linker table, then shows the title, release year, category, and length for all movies shorter than 48 minutes. The movies are presented in alphabetical order by genre."
   ]
  },
  {
   "cell_type": "code",
   "execution_count": 22,
   "metadata": {},
   "outputs": [
    {
     "name": "stdout",
     "output_type": "stream",
     "text": [
      "        title        | release_year |    name     | length \n",
      "---------------------+--------------+-------------+--------\n",
      " SUSPECTS QUILLS     |         2006 | Action      |     47\n",
      " LABYRINTH LEAGUE    |         2006 | Children    |     46\n",
      " IRON MOON           |         2006 | Classics    |     46\n",
      " DOWNHILL ENOUGH     |         2006 | Comedy      |     47\n",
      " HALLOWEEN NUTS      |         2006 | Documentary |     47\n",
      " HAWK CHILL          |         2006 | Documentary |     47\n",
      " KWAI HOMEWARD       |         2006 | Drama       |     46\n",
      " ALIEN CENTER        |         2006 | Foreign     |     46\n",
      " HANOVER GALAXY      |         2006 | Music       |     47\n",
      " RIDGEMONT SUBMARINE |         2006 | New         |     46\n",
      " DIVORCE SHINING     |         2006 | Sports      |     47\n",
      " SHANGHAI TYCOON     |         2006 | Travel      |     47\n",
      "(12 rows)\n",
      "\n"
     ]
    }
   ],
   "source": [
    "!psql -c \"select  title, release_year, name, length \\\n",
    "    from pagila.film \\\n",
    "    join pagila.film_category on pagila.film.film_id = pagila.film_category.film_id \\\n",
    "    join pagila.category on pagila.film_category.category_id = pagila.category.category_id \\\n",
    "    where length < 48 \\\n",
    "    order by name;\""
   ]
  },
  {
   "cell_type": "markdown",
   "metadata": {},
   "source": [
    "### Outer Join Queries"
   ]
  },
  {
   "cell_type": "markdown",
   "metadata": {},
   "source": [
    "This query joins the inventory and film tables with a priority on the film ids in the film table. As it turns out, every available film is in the inventory. The query is further tuned to the film with id 7 (Airplane Sierra), showing that there are 2 copies at store 1 and 3 copies at store 2."
   ]
  },
  {
   "cell_type": "code",
   "execution_count": 23,
   "metadata": {},
   "outputs": [
    {
     "name": "stdout",
     "output_type": "stream",
     "text": [
      " inventory_id | store_id |      title      | release_year | rental_rate | replacement_cost \n",
      "--------------+----------+-----------------+--------------+-------------+------------------\n",
      "           32 |        1 | AIRPLANE SIERRA |         2006 |        4.99 |            28.99\n",
      "           33 |        1 | AIRPLANE SIERRA |         2006 |        4.99 |            28.99\n",
      "           34 |        2 | AIRPLANE SIERRA |         2006 |        4.99 |            28.99\n",
      "           35 |        2 | AIRPLANE SIERRA |         2006 |        4.99 |            28.99\n",
      "           36 |        2 | AIRPLANE SIERRA |         2006 |        4.99 |            28.99\n",
      "(5 rows)\n",
      "\n"
     ]
    }
   ],
   "source": [
    "!psql -c \"select  inventory_id, store_id, title, release_year, rental_rate, replacement_cost \\\n",
    "    from pagila.inventory \\\n",
    "    right join pagila.film on pagila.inventory.film_id = pagila.film.film_id \\\n",
    "    where pagila.film.film_id = 7 \\\n",
    "    order by store_id;\""
   ]
  },
  {
   "cell_type": "markdown",
   "metadata": {},
   "source": [
    "This query joins the country and city tables on country_id, with an emphasis on all the ids in the country table. As it turns out, every country has at least one city. The query further looks for all the cities in countries starting with 'J', which is only Japan, and returns the first 10 Japanese cities alphabetically."
   ]
  },
  {
   "cell_type": "code",
   "execution_count": 24,
   "metadata": {},
   "outputs": [
    {
     "name": "stdout",
     "output_type": "stream",
     "text": [
      " country |     city     | country_id | city_id \n",
      "---------+--------------+------------+---------\n",
      " Japan   | Akishima     |         50 |      10\n",
      " Japan   | Fukuyama     |         50 |     172\n",
      " Japan   | Higashiosaka |         50 |     203\n",
      " Japan   | Hino         |         50 |     204\n",
      " Japan   | Hiroshima    |         50 |     205\n",
      " Japan   | Isesaki      |         50 |     224\n",
      " Japan   | Iwaki        |         50 |     226\n",
      " Japan   | Iwakuni      |         50 |     227\n",
      " Japan   | Iwatsuki     |         50 |     228\n",
      " Japan   | Izumisano    |         50 |     229\n",
      "(10 rows)\n",
      "\n"
     ]
    }
   ],
   "source": [
    "!psql -c \"select country, city, pagila.country.country_id, city_id \\\n",
    "    from pagila.country \\\n",
    "    left join pagila.city on pagila.country.country_id = pagila.city.country_id \\\n",
    "    where country like 'J%' \\\n",
    "    order by city \\\n",
    "    limit 10;\""
   ]
  },
  {
   "cell_type": "markdown",
   "metadata": {},
   "source": [
    "This query joins all the customers and addresses in the store records, which is mostly a 1-to-1 relationship. The query then searches for addresses without a corresponding customer and presents them, suggesting these are the store and staff addresses, and orders them by address_id."
   ]
  },
  {
   "cell_type": "code",
   "execution_count": 25,
   "metadata": {},
   "outputs": [
    {
     "name": "stdout",
     "output_type": "stream",
     "text": [
      " first_name | last_name | customer_id | address_id |       address        | district \n",
      "------------+-----------+-------------+------------+----------------------+----------\n",
      "            |           |             |          1 | 47 MySakila Drive    | Alberta\n",
      "            |           |             |          2 | 28 MySQL Boulevard   | QLD\n",
      "            |           |             |          3 | 23 Workhaven Lane    | Alberta\n",
      "            |           |             |          4 | 1411 Lillydale Drive | QLD\n",
      "(4 rows)\n",
      "\n"
     ]
    }
   ],
   "source": [
    "!psql -c \"select first_name, last_name, customer_id, pagila.address.address_id, address, district \\\n",
    "    from pagila.customer \\\n",
    "    full join pagila.address on pagila.customer.address_id = pagila.address.address_id \\\n",
    "    where customer_id is null \\\n",
    "    order by address_id;\""
   ]
  }
 ],
 "metadata": {
  "environment": {
   "name": "common-cpu.m55",
   "type": "gcloud",
   "uri": "gcr.io/deeplearning-platform-release/base-cpu:m55"
  },
  "kernelspec": {
   "display_name": "Python 3",
   "language": "python",
   "name": "python3"
  },
  "language_info": {
   "codemirror_mode": {
    "name": "ipython",
    "version": 3
   },
   "file_extension": ".py",
   "mimetype": "text/x-python",
   "name": "python",
   "nbconvert_exporter": "python",
   "pygments_lexer": "ipython3",
   "version": "3.7.8"
  }
 },
 "nbformat": 4,
 "nbformat_minor": 4
}
